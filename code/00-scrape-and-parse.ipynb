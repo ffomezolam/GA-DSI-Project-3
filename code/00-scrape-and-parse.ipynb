{
 "cells": [
  {
   "cell_type": "markdown",
   "id": "6fdc62e0-004a-4d5a-99b7-fa7eb7f155ef",
   "metadata": {},
   "source": [
    "# Project 3\n",
    "\n",
    "## Part 0: Scraping and Parsing\n",
    "\n",
    "This section will illustrate the process of scraping and parsing Reddit that I performed for this project.\n",
    "\n",
    "Most scraping and parsing was done using two custom-made scripts, `scraper.py` and `parser.py`, located in the code directory. These scripts export the following classes:\n",
    "\n",
    "`RedditReader`: A class for scraping Reddit using selenium. Because Reddit loads its post data dynamically in chunks, it was required to emulate a human user and scroll down the page as far as necessary to scrape the posts. The goal here was to avoid use of a much easier-to-use API.\n",
    "\n",
    "`RedditParser`: A class for parsing the Reddit page source for the necessary information.\n",
    "\n",
    "The `scraper.py` module uses the following third-party packages:\n",
    "\n",
    "- `selenium` (requires Chrome as ChromeDriver is hardcoded in the script for now)\n",
    "\n",
    "The `parser.py` modules uses the following third-party packages:\n",
    "\n",
    "- `bs4`\n",
    "\n",
    "The actual scraping done for this project was performed in ipython and the command line. I will replicate my steps below."
   ]
  },
  {
   "cell_type": "markdown",
   "id": "0b1e88e1-2f54-4d2b-9945-6686167c5085",
   "metadata": {},
   "source": [
    "### 0. Imports and Preliminaries"
   ]
  },
  {
   "cell_type": "code",
   "execution_count": 1,
   "id": "43ea92b9-97ab-4040-9ac8-5d97825c1dee",
   "metadata": {},
   "outputs": [],
   "source": [
    "# import modules\n",
    "from scraper import RedditReader\n",
    "from parser import RedditParser\n",
    "import os\n",
    "\n",
    "import pandas as pd"
   ]
  },
  {
   "cell_type": "markdown",
   "id": "2083e8ca-ba0a-44b3-b3c4-a845e8d133aa",
   "metadata": {},
   "source": [
    "### 1. Scraping\n",
    "\n",
    "**Note:** The code in this section will run an example scrape using the `scraper.py` module. As previously mentioned, the actual scraping was performed from the command line and in ipython. My executable code to automate this is located at the bottom of `scraper.py` and in the `multiscraper.py` script.\n",
    "\n",
    "The below code is commented out to prevent possible errors due to configuration (see above). Remove markdown code quotes and convert to code cell to run."
   ]
  },
  {
   "cell_type": "markdown",
   "id": "f6f8327a-8d4c-43bf-b6b5-fb61bc8380bc",
   "metadata": {},
   "source": [
    "```python\n",
    "number_of_scrolls = 10 # adjust to taste\n",
    "\n",
    "with RedditReader() as rr:\n",
    "    rr.set_sleep_time(4) # give time for page load\n",
    "    \n",
    "    # get URL\n",
    "    rr.get() # automatically sleeps for above time\n",
    "    rr.set_sleep_time(8) # give time for scrolling\n",
    "    \n",
    "    for i in range(number_of_scrolls):\n",
    "        # scroll page 10 times to get a subset of data\n",
    "        rr.scroll() # automatically scrolls to bottom of scrollable area\n",
    "        \n",
    "    # done with scrolling - write to disk\n",
    "    rr.write_page_source() # by default timestamps file and writes to scraped dir\n",
    "    \n",
    "    # selenium is automatically closed by virtue of the 'with' call\n",
    "```"
   ]
  },
  {
   "cell_type": "markdown",
   "id": "8f4876f8-1a7f-42b3-a02e-9d8e72f290f0",
   "metadata": {},
   "source": [
    "### 2. Parsing"
   ]
  },
  {
   "cell_type": "code",
   "execution_count": 2,
   "id": "c1def14c-b837-43a7-a9ac-9f6f6d3eecbb",
   "metadata": {},
   "outputs": [
    {
     "name": "stdout",
     "output_type": "stream",
     "text": [
      "['scrape_20220905_210656.txt', 'search', 'scrape_20220905_204314.txt', 'scrape_20220830_172503.txt', 'page']\n"
     ]
    }
   ],
   "source": [
    "# get main subreddit scrapes\n",
    "scrape_dir = '../scrapes/'\n",
    "scrape_files = os.listdir(scrape_dir)\n",
    "print(scrape_files[:5])"
   ]
  },
  {
   "cell_type": "code",
   "execution_count": 3,
   "id": "efba04df-cba5-4780-8fd8-713bc6471cd9",
   "metadata": {},
   "outputs": [
    {
     "name": "stdout",
     "output_type": "stream",
     "text": [
      "processed ../scrapes/scrape_20220905_210656.txt\n",
      "processed ../scrapes/scrape_20220905_204314.txt\n",
      "processed ../scrapes/scrape_20220830_172503.txt\n",
      "processed ../scrapes/scrape_20220830_190718.txt\n",
      "processed ../scrapes/scrape_20220831_110027.txt\n",
      "processed ../scrapes/scrape_20220829_164748.txt\n",
      "processed ../scrapes/scrape_20220831_101422.txt\n",
      "processed ../scrapes/scrape_20220905_194303.txt\n"
     ]
    }
   ],
   "source": [
    "# for each scrape, parse and collect relevant data, then add to a list\n",
    "info = list()\n",
    "for file in scrape_files:\n",
    "    if not file.endswith('.txt'): continue\n",
    "    # process contents using custom script (see above)\n",
    "    # file is read as part of class instantiation\n",
    "    rp = RedditParser(scrape_dir + file)\n",
    "    info.append(rp.go())\n",
    "    print(f'processed ' + scrape_dir + file)"
   ]
  },
  {
   "cell_type": "code",
   "execution_count": 4,
   "id": "f091c36b-211e-48b3-b155-405b29773a1b",
   "metadata": {},
   "outputs": [
    {
     "name": "stdout",
     "output_type": "stream",
     "text": [
      "converted 0 of 8\n",
      "converted 1 of 8\n",
      "converted 2 of 8\n",
      "converted 3 of 8\n",
      "converted 4 of 8\n",
      "converted 5 of 8\n",
      "converted 6 of 8\n",
      "converted 7 of 8\n"
     ]
    }
   ],
   "source": [
    "# convert dict/arrays to dataframes and concat to a single big dataframe\n",
    "container_df = pd.DataFrame()\n",
    "\n",
    "for ix, v in enumerate(info):\n",
    "    container_df = pd.concat([container_df, pd.DataFrame(v)])\n",
    "    print(f'converted {str(ix)} of {len(info)}')\n",
    "\n",
    "# drop duplicate rows (determined by uid created as part of the parser)\n",
    "df = container_df.drop_duplicates('uid')"
   ]
  },
  {
   "cell_type": "code",
   "execution_count": 5,
   "id": "21daa2a1-9948-4970-a1e5-8c5eb33a339b",
   "metadata": {},
   "outputs": [],
   "source": [
    "# delete unused variables to save memory\n",
    "del info\n",
    "del container_df"
   ]
  },
  {
   "cell_type": "code",
   "execution_count": 26,
   "id": "b101bb97-25a0-4a10-98ae-b6929dae116e",
   "metadata": {},
   "outputs": [
    {
     "name": "stdout",
     "output_type": "stream",
     "text": [
      "['scrape_page_20220906_091432.txt', 'scrape_page_20220905_222246.txt', 'scrape_page_20220906_073832.txt', 'scrape_page_20220906_042333.txt', 'scrape_page_20220906_090702.txt']\n"
     ]
    }
   ],
   "source": [
    "# we have additional post scrapes to parse\n",
    "post_scrape_dir = scrape_dir + 'page/'\n",
    "post_scrape_files = os.listdir(post_scrape_dir)\n",
    "print(post_scrape_files[:5])"
   ]
  },
  {
   "cell_type": "code",
   "execution_count": 33,
   "id": "916af7da-4046-4003-884a-829a01fd3bb9",
   "metadata": {},
   "outputs": [
    {
     "name": "stdout",
     "output_type": "stream",
     "text": [
      "..............................................................................................................................................."
     ]
    }
   ],
   "source": [
    "# scrape each post\n",
    "info = list()\n",
    "count = 0\n",
    "for file in post_scrape_files:\n",
    "    rp = RedditParser(post_scrape_dir + file, tags_file='tags_post.json')\n",
    "    info.append(rp.go())\n",
    "    count += 1\n",
    "    #print(f'processed {post_scrape_dir}{file}')\n",
    "    if not count % 50: print('.', end='') # 7k+ files - shorten output"
   ]
  },
  {
   "cell_type": "code",
   "execution_count": 35,
   "id": "dd497297-868b-4bd8-a7ae-ec320c0dc644",
   "metadata": {},
   "outputs": [
    {
     "name": "stdout",
     "output_type": "stream",
     "text": [
      "..............................................................................................................................................."
     ]
    }
   ],
   "source": [
    "container_df = pd.DataFrame()\n",
    "count = 0\n",
    "\n",
    "for ix, v in enumerate(info):\n",
    "    container_df = pd.concat([container_df, pd.DataFrame(v)])\n",
    "    count += 1\n",
    "    #print(f'converted {str(ix)} of {len(info)}')\n",
    "    if not count % 50: print('.', end='') # shorten output"
   ]
  },
  {
   "cell_type": "code",
   "execution_count": 36,
   "id": "37031fef-2276-40d0-8448-248aec65ee00",
   "metadata": {},
   "outputs": [
    {
     "data": {
      "text/html": [
       "<div>\n",
       "<style scoped>\n",
       "    .dataframe tbody tr th:only-of-type {\n",
       "        vertical-align: middle;\n",
       "    }\n",
       "\n",
       "    .dataframe tbody tr th {\n",
       "        vertical-align: top;\n",
       "    }\n",
       "\n",
       "    .dataframe thead th {\n",
       "        text-align: right;\n",
       "    }\n",
       "</style>\n",
       "<table border=\"1\" class=\"dataframe\">\n",
       "  <thead>\n",
       "    <tr style=\"text-align: right;\">\n",
       "      <th></th>\n",
       "      <th>title</th>\n",
       "      <th>time</th>\n",
       "      <th>comments</th>\n",
       "      <th>body-text</th>\n",
       "      <th>media</th>\n",
       "      <th>uid</th>\n",
       "    </tr>\n",
       "  </thead>\n",
       "  <tbody>\n",
       "    <tr>\n",
       "      <th>0</th>\n",
       "      <td>A morbid /showerthought for scorpio season onl...</td>\n",
       "      <td>2020-09-16</td>\n",
       "      <td></td>\n",
       "      <td>If I were to die by some sort of sudden accide...</td>\n",
       "      <td></td>\n",
       "      <td>75Amorbid/showerthoughtforscorpioseasononlyast...</td>\n",
       "    </tr>\n",
       "    <tr>\n",
       "      <th>0</th>\n",
       "      <td>Scorpio risings, how do you interpret and/or r...</td>\n",
       "      <td>2021-09-10</td>\n",
       "      <td></td>\n",
       "      <td>Do you feel like you are subconsciously projec...</td>\n",
       "      <td></td>\n",
       "      <td>88Scorpiorisings,howdoyouinterpretand/orrespon...</td>\n",
       "    </tr>\n",
       "    <tr>\n",
       "      <th>0</th>\n",
       "      <td>Air Signs and Emotional Reactions</td>\n",
       "      <td>2021-09-11</td>\n",
       "      <td></td>\n",
       "      <td>This is possibly an unpopular opinion but I'd ...</td>\n",
       "      <td></td>\n",
       "      <td>33AirSignsandEmotionalReactions666</td>\n",
       "    </tr>\n",
       "    <tr>\n",
       "      <th>0</th>\n",
       "      <td>Libra moon and Taurus Moon a surprisingly good...</td>\n",
       "      <td>2021-09-11</td>\n",
       "      <td></td>\n",
       "      <td>Normally people think that air and earth aren’...</td>\n",
       "      <td></td>\n",
       "      <td>53LibramoonandTaurusMoonasurprisinglygoodmatch...</td>\n",
       "    </tr>\n",
       "    <tr>\n",
       "      <th>0</th>\n",
       "      <td>jupiter in gemini meaning?</td>\n",
       "      <td>2021-09-11</td>\n",
       "      <td></td>\n",
       "      <td>is having a placement in detriment more diffic...</td>\n",
       "      <td></td>\n",
       "      <td>26jupiteringeminimeaning?50</td>\n",
       "    </tr>\n",
       "  </tbody>\n",
       "</table>\n",
       "</div>"
      ],
      "text/plain": [
       "                                               title        time comments  \\\n",
       "0  A morbid /showerthought for scorpio season onl...  2020-09-16            \n",
       "0  Scorpio risings, how do you interpret and/or r...  2021-09-10            \n",
       "0                  Air Signs and Emotional Reactions  2021-09-11            \n",
       "0  Libra moon and Taurus Moon a surprisingly good...  2021-09-11            \n",
       "0                         jupiter in gemini meaning?  2021-09-11            \n",
       "\n",
       "                                           body-text media  \\\n",
       "0  If I were to die by some sort of sudden accide...         \n",
       "0  Do you feel like you are subconsciously projec...         \n",
       "0  This is possibly an unpopular opinion but I'd ...         \n",
       "0  Normally people think that air and earth aren’...         \n",
       "0  is having a placement in detriment more diffic...         \n",
       "\n",
       "                                                 uid  \n",
       "0  75Amorbid/showerthoughtforscorpioseasononlyast...  \n",
       "0  88Scorpiorisings,howdoyouinterpretand/orrespon...  \n",
       "0                 33AirSignsandEmotionalReactions666  \n",
       "0  53LibramoonandTaurusMoonasurprisinglygoodmatch...  \n",
       "0                        26jupiteringeminimeaning?50  "
      ]
     },
     "execution_count": 36,
     "metadata": {},
     "output_type": "execute_result"
    }
   ],
   "source": [
    "container_df.head()"
   ]
  },
  {
   "cell_type": "code",
   "execution_count": 37,
   "id": "a311935f-a495-425a-a7f5-0b75c20f47ac",
   "metadata": {},
   "outputs": [
    {
     "data": {
      "text/plain": [
       "(7150, 6)"
      ]
     },
     "execution_count": 37,
     "metadata": {},
     "output_type": "execute_result"
    }
   ],
   "source": [
    "container_df.shape"
   ]
  },
  {
   "cell_type": "code",
   "execution_count": 38,
   "id": "aa3f50fb-3ce2-45e8-b2bb-9e59fdd7b272",
   "metadata": {},
   "outputs": [
    {
     "data": {
      "text/plain": [
       "(8718, 6)"
      ]
     },
     "execution_count": 38,
     "metadata": {},
     "output_type": "execute_result"
    }
   ],
   "source": [
    "# combine all rows\n",
    "df = pd.concat([df, container_df]).drop_duplicates('uid')\n",
    "df.shape"
   ]
  },
  {
   "cell_type": "markdown",
   "id": "1a002f8f-edef-435b-90fc-e5400e0ce0de",
   "metadata": {},
   "source": [
    "# 3. Verify and Write To Disk"
   ]
  },
  {
   "cell_type": "code",
   "execution_count": 6,
   "id": "189dc60f-3e28-43cc-9b69-34e30f1487b5",
   "metadata": {},
   "outputs": [],
   "source": [
    "# reset index\n",
    "df = df.reset_index().drop(columns=['index'])"
   ]
  },
  {
   "cell_type": "code",
   "execution_count": 7,
   "id": "1e10f34a-15e1-4a26-8777-4da77d5293ce",
   "metadata": {},
   "outputs": [
    {
     "data": {
      "text/plain": [
       "(2187, 6)"
      ]
     },
     "execution_count": 7,
     "metadata": {},
     "output_type": "execute_result"
    }
   ],
   "source": [
    "# check number of rows\n",
    "df.shape"
   ]
  },
  {
   "cell_type": "code",
   "execution_count": 8,
   "id": "9091c017-741a-40d0-9bac-7d886fade0d2",
   "metadata": {},
   "outputs": [
    {
     "data": {
      "text/html": [
       "<div>\n",
       "<style scoped>\n",
       "    .dataframe tbody tr th:only-of-type {\n",
       "        vertical-align: middle;\n",
       "    }\n",
       "\n",
       "    .dataframe tbody tr th {\n",
       "        vertical-align: top;\n",
       "    }\n",
       "\n",
       "    .dataframe thead th {\n",
       "        text-align: right;\n",
       "    }\n",
       "</style>\n",
       "<table border=\"1\" class=\"dataframe\">\n",
       "  <thead>\n",
       "    <tr style=\"text-align: right;\">\n",
       "      <th></th>\n",
       "      <th>title</th>\n",
       "      <th>time</th>\n",
       "      <th>comments</th>\n",
       "      <th>body-text</th>\n",
       "      <th>media</th>\n",
       "      <th>uid</th>\n",
       "    </tr>\n",
       "  </thead>\n",
       "  <tbody>\n",
       "    <tr>\n",
       "      <th>0</th>\n",
       "      <td>Saturn Return MEGATHREAD - we've been getting ...</td>\n",
       "      <td>2022-02-01</td>\n",
       "      <td>330</td>\n",
       "      <td></td>\n",
       "      <td></td>\n",
       "      <td>214SaturnReturnMEGATHREAD-we'vebeengettingalot...</td>\n",
       "    </tr>\n",
       "    <tr>\n",
       "      <th>1</th>\n",
       "      <td>MERCURY RX INFOGRAPHIC: Taurus/Gemini, Apr-Jun...</td>\n",
       "      <td>2022-06-01</td>\n",
       "      <td>22</td>\n",
       "      <td></td>\n",
       "      <td></td>\n",
       "      <td>51MERCURYRXINFOGRAPHIC:Taurus/Gemini,Apr-Jun20220</td>\n",
       "    </tr>\n",
       "    <tr>\n",
       "      <th>2</th>\n",
       "      <td>CHANI app issues?</td>\n",
       "      <td>2022-08-30</td>\n",
       "      <td>4</td>\n",
       "      <td>I just downloaded the CHANI app to try out and...</td>\n",
       "      <td></td>\n",
       "      <td>17CHANIappissues?221</td>\n",
       "    </tr>\n",
       "    <tr>\n",
       "      <th>3</th>\n",
       "      <td>Make every mile count next season—get the late...</td>\n",
       "      <td></td>\n",
       "      <td>0</td>\n",
       "      <td></td>\n",
       "      <td>True</td>\n",
       "      <td>124Makeeverymilecountnextseason—getthelatestcr...</td>\n",
       "    </tr>\n",
       "    <tr>\n",
       "      <th>4</th>\n",
       "      <td>Is Mercury in Aquarius in the 6th House as pow...</td>\n",
       "      <td>2022-08-30</td>\n",
       "      <td>8</td>\n",
       "      <td>Not new to the deeper parts of astrology but t...</td>\n",
       "      <td></td>\n",
       "      <td>86IsMercuryinAquariusinthe6thHouseaspowerfulas...</td>\n",
       "    </tr>\n",
       "  </tbody>\n",
       "</table>\n",
       "</div>"
      ],
      "text/plain": [
       "                                               title        time  comments  \\\n",
       "0  Saturn Return MEGATHREAD - we've been getting ...  2022-02-01       330   \n",
       "1  MERCURY RX INFOGRAPHIC: Taurus/Gemini, Apr-Jun...  2022-06-01        22   \n",
       "2                                  CHANI app issues?  2022-08-30         4   \n",
       "3  Make every mile count next season—get the late...                     0   \n",
       "4  Is Mercury in Aquarius in the 6th House as pow...  2022-08-30         8   \n",
       "\n",
       "                                           body-text media  \\\n",
       "0                                                            \n",
       "1                                                            \n",
       "2  I just downloaded the CHANI app to try out and...         \n",
       "3                                                     True   \n",
       "4  Not new to the deeper parts of astrology but t...         \n",
       "\n",
       "                                                 uid  \n",
       "0  214SaturnReturnMEGATHREAD-we'vebeengettingalot...  \n",
       "1  51MERCURYRXINFOGRAPHIC:Taurus/Gemini,Apr-Jun20220  \n",
       "2                               17CHANIappissues?221  \n",
       "3  124Makeeverymilecountnextseason—getthelatestcr...  \n",
       "4  86IsMercuryinAquariusinthe6thHouseaspowerfulas...  "
      ]
     },
     "execution_count": 8,
     "metadata": {},
     "output_type": "execute_result"
    }
   ],
   "source": [
    "# check general look of table\n",
    "df.head()"
   ]
  },
  {
   "cell_type": "code",
   "execution_count": 9,
   "id": "baa7c177-44f0-4915-8fb2-e2d939945d8d",
   "metadata": {},
   "outputs": [
    {
     "data": {
      "text/html": [
       "<div>\n",
       "<style scoped>\n",
       "    .dataframe tbody tr th:only-of-type {\n",
       "        vertical-align: middle;\n",
       "    }\n",
       "\n",
       "    .dataframe tbody tr th {\n",
       "        vertical-align: top;\n",
       "    }\n",
       "\n",
       "    .dataframe thead th {\n",
       "        text-align: right;\n",
       "    }\n",
       "</style>\n",
       "<table border=\"1\" class=\"dataframe\">\n",
       "  <thead>\n",
       "    <tr style=\"text-align: right;\">\n",
       "      <th></th>\n",
       "      <th>uid</th>\n",
       "      <th>time</th>\n",
       "      <th>title</th>\n",
       "      <th>body-text</th>\n",
       "      <th>media</th>\n",
       "      <th>comments</th>\n",
       "    </tr>\n",
       "  </thead>\n",
       "  <tbody>\n",
       "    <tr>\n",
       "      <th>0</th>\n",
       "      <td>214SaturnReturnMEGATHREAD-we'vebeengettingalot...</td>\n",
       "      <td>2022-02-01</td>\n",
       "      <td>Saturn Return MEGATHREAD - we've been getting ...</td>\n",
       "      <td></td>\n",
       "      <td></td>\n",
       "      <td>330</td>\n",
       "    </tr>\n",
       "    <tr>\n",
       "      <th>1</th>\n",
       "      <td>51MERCURYRXINFOGRAPHIC:Taurus/Gemini,Apr-Jun20220</td>\n",
       "      <td>2022-06-01</td>\n",
       "      <td>MERCURY RX INFOGRAPHIC: Taurus/Gemini, Apr-Jun...</td>\n",
       "      <td></td>\n",
       "      <td></td>\n",
       "      <td>22</td>\n",
       "    </tr>\n",
       "    <tr>\n",
       "      <th>2</th>\n",
       "      <td>17CHANIappissues?221</td>\n",
       "      <td>2022-08-30</td>\n",
       "      <td>CHANI app issues?</td>\n",
       "      <td>I just downloaded the CHANI app to try out and...</td>\n",
       "      <td></td>\n",
       "      <td>4</td>\n",
       "    </tr>\n",
       "    <tr>\n",
       "      <th>3</th>\n",
       "      <td>124Makeeverymilecountnextseason—getthelatestcr...</td>\n",
       "      <td></td>\n",
       "      <td>Make every mile count next season—get the late...</td>\n",
       "      <td></td>\n",
       "      <td>True</td>\n",
       "      <td>0</td>\n",
       "    </tr>\n",
       "    <tr>\n",
       "      <th>4</th>\n",
       "      <td>86IsMercuryinAquariusinthe6thHouseaspowerfulas...</td>\n",
       "      <td>2022-08-30</td>\n",
       "      <td>Is Mercury in Aquarius in the 6th House as pow...</td>\n",
       "      <td>Not new to the deeper parts of astrology but t...</td>\n",
       "      <td></td>\n",
       "      <td>8</td>\n",
       "    </tr>\n",
       "  </tbody>\n",
       "</table>\n",
       "</div>"
      ],
      "text/plain": [
       "                                                 uid        time  \\\n",
       "0  214SaturnReturnMEGATHREAD-we'vebeengettingalot...  2022-02-01   \n",
       "1  51MERCURYRXINFOGRAPHIC:Taurus/Gemini,Apr-Jun20220  2022-06-01   \n",
       "2                               17CHANIappissues?221  2022-08-30   \n",
       "3  124Makeeverymilecountnextseason—getthelatestcr...               \n",
       "4  86IsMercuryinAquariusinthe6thHouseaspowerfulas...  2022-08-30   \n",
       "\n",
       "                                               title  \\\n",
       "0  Saturn Return MEGATHREAD - we've been getting ...   \n",
       "1  MERCURY RX INFOGRAPHIC: Taurus/Gemini, Apr-Jun...   \n",
       "2                                  CHANI app issues?   \n",
       "3  Make every mile count next season—get the late...   \n",
       "4  Is Mercury in Aquarius in the 6th House as pow...   \n",
       "\n",
       "                                           body-text media  comments  \n",
       "0                                                                330  \n",
       "1                                                                 22  \n",
       "2  I just downloaded the CHANI app to try out and...               4  \n",
       "3                                                     True         0  \n",
       "4  Not new to the deeper parts of astrology but t...               8  "
      ]
     },
     "execution_count": 9,
     "metadata": {},
     "output_type": "execute_result"
    }
   ],
   "source": [
    "# rearrange columns\n",
    "df = df[['uid','time','title','body-text','media','comments']]\n",
    "df.head()"
   ]
  },
  {
   "cell_type": "code",
   "execution_count": 10,
   "id": "8ed319e1-1c06-4b61-bad3-ccffac21b95d",
   "metadata": {},
   "outputs": [],
   "source": [
    "# will export to json here because that seems more intuitive to me for this\n",
    "# kind of long string data\n",
    "df.to_json('../data/scrapes.json', orient='index')"
   ]
  },
  {
   "cell_type": "code",
   "execution_count": 11,
   "id": "db78c8e9-b919-492a-b1d3-eb9b22dab61f",
   "metadata": {},
   "outputs": [],
   "source": [
    "# END"
   ]
  }
 ],
 "metadata": {
  "kernelspec": {
   "display_name": "Python 3 (ipykernel)",
   "language": "python",
   "name": "python3"
  },
  "language_info": {
   "codemirror_mode": {
    "name": "ipython",
    "version": 3
   },
   "file_extension": ".py",
   "mimetype": "text/x-python",
   "name": "python",
   "nbconvert_exporter": "python",
   "pygments_lexer": "ipython3",
   "version": "3.10.5"
  }
 },
 "nbformat": 4,
 "nbformat_minor": 5
}
