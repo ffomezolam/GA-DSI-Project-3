{
 "cells": [
  {
   "cell_type": "markdown",
   "id": "6fdc62e0-004a-4d5a-99b7-fa7eb7f155ef",
   "metadata": {},
   "source": [
    "# Project 3\n",
    "\n",
    "## Part 0: Scraping and Parsing\n",
    "\n",
    "This section will illustrate the process of scraping and parsing Reddit that I performed for this project.\n",
    "\n",
    "All scraping and parsing was done using a custom-made script, `scraper.py`, located in the code directory. This script exports two classes:\n",
    "\n",
    "`RedditReader`: A class for scraping Reddit using selenium. Because Reddit loads its post data dynamically in chunks, it was required to emulate a human user and scroll down the page as far as necessary to scrape the posts. The goal here was to avoid use of a much easier-to-use API.\n",
    "\n",
    "`RedditParser`: A class for parsing the Reddit page source for the necessary information.\n",
    "\n",
    "The `scraper.py` module uses the following third-party packages:\n",
    "\n",
    "- `selenium` (requires Chrome as ChromeDriver is hardcoded in the script for now)\n",
    "- `bs4`\n",
    "- `pandas`\n",
    "\n",
    "The actual scraping and parsing done for this project was performed in ipython and the command line. I will replicate my steps below."
   ]
  },
  {
   "cell_type": "markdown",
   "id": "0b1e88e1-2f54-4d2b-9945-6686167c5085",
   "metadata": {},
   "source": [
    "### 0. Imports and Preliminaries"
   ]
  },
  {
   "cell_type": "code",
   "execution_count": 4,
   "id": "43ea92b9-97ab-4040-9ac8-5d97825c1dee",
   "metadata": {},
   "outputs": [],
   "source": [
    "# import modules\n",
    "from scraper import RedditReader, RedditParser\n",
    "import time"
   ]
  },
  {
   "cell_type": "markdown",
   "id": "2083e8ca-ba0a-44b3-b3c4-a845e8d133aa",
   "metadata": {},
   "source": [
    "### 1. Scraping\n",
    "\n",
    "**Note:** The code in this section will run an example scrape using the `scraper.py` module. As previously mentioned, the actual scraping was performed from the command line and in ipython. My executable code to automate this is located at the bottom of `scraper.py`.\n",
    "\n",
    "The below code is commented out to prevent possible errors due to configuration (see above). Remove markdown code quotes and convert to code cell to run."
   ]
  },
  {
   "cell_type": "markdown",
   "id": "f6f8327a-8d4c-43bf-b6b5-fb61bc8380bc",
   "metadata": {},
   "source": [
    "```python\n",
    "number_of_scrolls = 10 # adjust to taste\n",
    "\n",
    "with RedditReader() as rr:\n",
    "    rr.set_sleep_time(4) # give time for page load\n",
    "    \n",
    "    # get URL\n",
    "    rr.get() # automatically sleeps for above time\n",
    "    rr.set_sleep_time(8) # give time for scrolling\n",
    "    \n",
    "    for i in range(number_of_scrolls):\n",
    "        # scroll page 10 times to get a subset of data\n",
    "        rr.scroll() # automatically scrolls to bottom of scrollable area\n",
    "        \n",
    "    # done with scrolling - write to disk\n",
    "    rr.write_page_source() # by default timestamps file and writes to scraped dir\n",
    "    \n",
    "    # selenium is automatically closed by virtue of the 'with' call\n",
    "```"
   ]
  },
  {
   "cell_type": "markdown",
   "id": "8f4876f8-1a7f-42b3-a02e-9d8e72f290f0",
   "metadata": {},
   "source": [
    "### 2. Parsing"
   ]
  },
  {
   "cell_type": "code",
   "execution_count": null,
   "id": "c1def14c-b837-43a7-a9ac-9f6f6d3eecbb",
   "metadata": {},
   "outputs": [],
   "source": []
  }
 ],
 "metadata": {
  "kernelspec": {
   "display_name": "Python 3 (ipykernel)",
   "language": "python",
   "name": "python3"
  },
  "language_info": {
   "codemirror_mode": {
    "name": "ipython",
    "version": 3
   },
   "file_extension": ".py",
   "mimetype": "text/x-python",
   "name": "python",
   "nbconvert_exporter": "python",
   "pygments_lexer": "ipython3",
   "version": "3.10.5"
  }
 },
 "nbformat": 4,
 "nbformat_minor": 5
}
