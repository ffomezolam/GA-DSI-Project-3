{
 "cells": [
  {
   "cell_type": "markdown",
   "id": "171f9813-9b2f-4a72-afbd-79c1a207de4a",
   "metadata": {},
   "source": [
    "# Project 3\n",
    "\n",
    "## Part 1: Data Cleaning, Feature Engineering, EDA\n",
    "\n",
    "I have my post content, now I need to inspect it and clean it up if necessary."
   ]
  },
  {
   "cell_type": "markdown",
   "id": "97011b79-9a03-49c8-9ba5-e4c05b9fbd77",
   "metadata": {},
   "source": [
    "### 0. Imports and Preliminaries"
   ]
  },
  {
   "cell_type": "code",
   "execution_count": 1,
   "id": "72dde85e-0a46-465f-bfc8-b0efc957aeb1",
   "metadata": {},
   "outputs": [],
   "source": [
    "import pandas as pd\n",
    "import numpy as np\n",
    "from nltk.tokenize import word_tokenize, regexp_tokenize\n",
    "import string # for punctuation\n",
    "import ipynb_utils as ipyutils  # custom variables and utility functions"
   ]
  },
  {
   "cell_type": "code",
   "execution_count": 2,
   "id": "e65020e5-25e3-4c7d-aaca-4d1ac6648066",
   "metadata": {},
   "outputs": [
    {
     "data": {
      "text/plain": [
       "(2187, 6)"
      ]
     },
     "execution_count": 2,
     "metadata": {},
     "output_type": "execute_result"
    }
   ],
   "source": [
    "# load data\n",
    "data_path = '../data/scrapes.json'\n",
    "post_df = pd.read_json(data_path, orient='index')\n",
    "post_df.shape"
   ]
  },
  {
   "cell_type": "code",
   "execution_count": 3,
   "id": "0b5366b2-aca4-402a-9c8f-d2ac33d63dd1",
   "metadata": {},
   "outputs": [
    {
     "data": {
      "text/html": [
       "<div>\n",
       "<style scoped>\n",
       "    .dataframe tbody tr th:only-of-type {\n",
       "        vertical-align: middle;\n",
       "    }\n",
       "\n",
       "    .dataframe tbody tr th {\n",
       "        vertical-align: top;\n",
       "    }\n",
       "\n",
       "    .dataframe thead th {\n",
       "        text-align: right;\n",
       "    }\n",
       "</style>\n",
       "<table border=\"1\" class=\"dataframe\">\n",
       "  <thead>\n",
       "    <tr style=\"text-align: right;\">\n",
       "      <th></th>\n",
       "      <th>uid</th>\n",
       "      <th>time</th>\n",
       "      <th>title</th>\n",
       "      <th>body-text</th>\n",
       "      <th>media</th>\n",
       "      <th>comments</th>\n",
       "    </tr>\n",
       "  </thead>\n",
       "  <tbody>\n",
       "    <tr>\n",
       "      <th>0</th>\n",
       "      <td>214SaturnReturnMEGATHREAD-we'vebeengettingalot...</td>\n",
       "      <td>2022-02-01</td>\n",
       "      <td>Saturn Return MEGATHREAD - we've been getting ...</td>\n",
       "      <td></td>\n",
       "      <td></td>\n",
       "      <td>330</td>\n",
       "    </tr>\n",
       "    <tr>\n",
       "      <th>1</th>\n",
       "      <td>51MERCURYRXINFOGRAPHIC:Taurus/Gemini,Apr-Jun20220</td>\n",
       "      <td>2022-06-01</td>\n",
       "      <td>MERCURY RX INFOGRAPHIC: Taurus/Gemini, Apr-Jun...</td>\n",
       "      <td></td>\n",
       "      <td></td>\n",
       "      <td>22</td>\n",
       "    </tr>\n",
       "    <tr>\n",
       "      <th>2</th>\n",
       "      <td>17CHANIappissues?221</td>\n",
       "      <td>2022-08-30</td>\n",
       "      <td>CHANI app issues?</td>\n",
       "      <td>I just downloaded the CHANI app to try out and...</td>\n",
       "      <td></td>\n",
       "      <td>4</td>\n",
       "    </tr>\n",
       "    <tr>\n",
       "      <th>3</th>\n",
       "      <td>124Makeeverymilecountnextseason—getthelatestcr...</td>\n",
       "      <td></td>\n",
       "      <td>Make every mile count next season—get the late...</td>\n",
       "      <td></td>\n",
       "      <td>True</td>\n",
       "      <td>0</td>\n",
       "    </tr>\n",
       "    <tr>\n",
       "      <th>4</th>\n",
       "      <td>86IsMercuryinAquariusinthe6thHouseaspowerfulas...</td>\n",
       "      <td>2022-08-30</td>\n",
       "      <td>Is Mercury in Aquarius in the 6th House as pow...</td>\n",
       "      <td>Not new to the deeper parts of astrology but t...</td>\n",
       "      <td></td>\n",
       "      <td>8</td>\n",
       "    </tr>\n",
       "  </tbody>\n",
       "</table>\n",
       "</div>"
      ],
      "text/plain": [
       "                                                 uid        time  \\\n",
       "0  214SaturnReturnMEGATHREAD-we'vebeengettingalot...  2022-02-01   \n",
       "1  51MERCURYRXINFOGRAPHIC:Taurus/Gemini,Apr-Jun20220  2022-06-01   \n",
       "2                               17CHANIappissues?221  2022-08-30   \n",
       "3  124Makeeverymilecountnextseason—getthelatestcr...               \n",
       "4  86IsMercuryinAquariusinthe6thHouseaspowerfulas...  2022-08-30   \n",
       "\n",
       "                                               title  \\\n",
       "0  Saturn Return MEGATHREAD - we've been getting ...   \n",
       "1  MERCURY RX INFOGRAPHIC: Taurus/Gemini, Apr-Jun...   \n",
       "2                                  CHANI app issues?   \n",
       "3  Make every mile count next season—get the late...   \n",
       "4  Is Mercury in Aquarius in the 6th House as pow...   \n",
       "\n",
       "                                           body-text media  comments  \n",
       "0                                                                330  \n",
       "1                                                                 22  \n",
       "2  I just downloaded the CHANI app to try out and...               4  \n",
       "3                                                     True         0  \n",
       "4  Not new to the deeper parts of astrology but t...               8  "
      ]
     },
     "execution_count": 3,
     "metadata": {},
     "output_type": "execute_result"
    }
   ],
   "source": [
    "post_df.head()"
   ]
  },
  {
   "cell_type": "markdown",
   "id": "de32996d-24a6-41aa-a4ee-cdc71ee01938",
   "metadata": {},
   "source": [
    "### 1. EDA and Cleaning"
   ]
  },
  {
   "cell_type": "code",
   "execution_count": 4,
   "id": "87e0fb52-7e99-459a-9d39-4595a57882ba",
   "metadata": {},
   "outputs": [
    {
     "data": {
      "text/html": [
       "<div>\n",
       "<style scoped>\n",
       "    .dataframe tbody tr th:only-of-type {\n",
       "        vertical-align: middle;\n",
       "    }\n",
       "\n",
       "    .dataframe tbody tr th {\n",
       "        vertical-align: top;\n",
       "    }\n",
       "\n",
       "    .dataframe thead th {\n",
       "        text-align: right;\n",
       "    }\n",
       "</style>\n",
       "<table border=\"1\" class=\"dataframe\">\n",
       "  <thead>\n",
       "    <tr style=\"text-align: right;\">\n",
       "      <th></th>\n",
       "      <th>uid</th>\n",
       "      <th>time</th>\n",
       "      <th>title</th>\n",
       "      <th>body-text</th>\n",
       "      <th>media</th>\n",
       "      <th>comments</th>\n",
       "    </tr>\n",
       "  </thead>\n",
       "  <tbody>\n",
       "    <tr>\n",
       "      <th>3</th>\n",
       "      <td>124Makeeverymilecountnextseason—getthelatestcr...</td>\n",
       "      <td></td>\n",
       "      <td>Make every mile count next season—get the late...</td>\n",
       "      <td></td>\n",
       "      <td>True</td>\n",
       "      <td>0</td>\n",
       "    </tr>\n",
       "    <tr>\n",
       "      <th>9</th>\n",
       "      <td>254Yougottabereadyforanythingifyouwanttokeepup...</td>\n",
       "      <td></td>\n",
       "      <td>You gotta be ready for anything if you want to...</td>\n",
       "      <td></td>\n",
       "      <td>True</td>\n",
       "      <td>0</td>\n",
       "    </tr>\n",
       "    <tr>\n",
       "      <th>15</th>\n",
       "      <td>237[MEGATHREAD]Reddit,meettheNextGenerationGMC...</td>\n",
       "      <td></td>\n",
       "      <td>[MEGATHREAD] Reddit, meet the Next Generation ...</td>\n",
       "      <td>TL;DR: GMC has unveiled the incredibly capable...</td>\n",
       "      <td></td>\n",
       "      <td>0</td>\n",
       "    </tr>\n",
       "    <tr>\n",
       "      <th>21</th>\n",
       "      <td>145OkReddit–ifwegaveyouanicechestfulloficecold...</td>\n",
       "      <td></td>\n",
       "      <td>Ok Reddit – if we gave you an ice chest full o...</td>\n",
       "      <td></td>\n",
       "      <td>True</td>\n",
       "      <td>5</td>\n",
       "    </tr>\n",
       "    <tr>\n",
       "      <th>27</th>\n",
       "      <td>171Thedaysofmissingnotificationsareover.Withit...</td>\n",
       "      <td></td>\n",
       "      <td>The days of missing notifications are over. Wi...</td>\n",
       "      <td></td>\n",
       "      <td>True</td>\n",
       "      <td>0</td>\n",
       "    </tr>\n",
       "  </tbody>\n",
       "</table>\n",
       "</div>"
      ],
      "text/plain": [
       "                                                  uid time  \\\n",
       "3   124Makeeverymilecountnextseason—getthelatestcr...        \n",
       "9   254Yougottabereadyforanythingifyouwanttokeepup...        \n",
       "15  237[MEGATHREAD]Reddit,meettheNextGenerationGMC...        \n",
       "21  145OkReddit–ifwegaveyouanicechestfulloficecold...        \n",
       "27  171Thedaysofmissingnotificationsareover.Withit...        \n",
       "\n",
       "                                                title  \\\n",
       "3   Make every mile count next season—get the late...   \n",
       "9   You gotta be ready for anything if you want to...   \n",
       "15  [MEGATHREAD] Reddit, meet the Next Generation ...   \n",
       "21  Ok Reddit – if we gave you an ice chest full o...   \n",
       "27  The days of missing notifications are over. Wi...   \n",
       "\n",
       "                                            body-text media  comments  \n",
       "3                                                      True         0  \n",
       "9                                                      True         0  \n",
       "15  TL;DR: GMC has unveiled the incredibly capable...               0  \n",
       "21                                                     True         5  \n",
       "27                                                     True         0  "
      ]
     },
     "execution_count": 4,
     "metadata": {},
     "output_type": "execute_result"
    }
   ],
   "source": [
    "post_df[post_df['time'] == ''].head() # are these all ads?"
   ]
  },
  {
   "cell_type": "code",
   "execution_count": 5,
   "id": "a4e5e9aa-8112-4a8b-aff0-b0426ef80677",
   "metadata": {},
   "outputs": [],
   "source": [
    "# save a filter for these rows that might be ads\n",
    "adfilter = post_df['time'] == ''"
   ]
  },
  {
   "cell_type": "code",
   "execution_count": 6,
   "id": "497e70ca-86dd-42d3-aa62-cf631df6f98e",
   "metadata": {},
   "outputs": [
    {
     "data": {
      "text/plain": [
       "3       Make every mile count next season—get the late...\n",
       "9       You gotta be ready for anything if you want to...\n",
       "15      [MEGATHREAD] Reddit, meet the Next Generation ...\n",
       "21      Ok Reddit – if we gave you an ice chest full o...\n",
       "27      The days of missing notifications are over. Wi...\n",
       "                              ...                        \n",
       "2182    This Labor Day, enjoy a $45 promotional rate f...\n",
       "2183    Even Jason, a dedicated triathlete, struggled ...\n",
       "2184    Get a grip on your future by serving your coun...\n",
       "2185    TRUST The Structure: Anyone can edit. Anyone C...\n",
       "2186                   Full speed. Full Send. #TeamToyota\n",
       "Name: title, Length: 215, dtype: object"
      ]
     },
     "execution_count": 6,
     "metadata": {},
     "output_type": "execute_result"
    }
   ],
   "source": [
    "# inspect these rows in a bit more detail\n",
    "post_df[adfilter]['title']"
   ]
  },
  {
   "cell_type": "code",
   "execution_count": 7,
   "id": "35861fa9-bc47-44d6-83d8-747f98153a12",
   "metadata": {},
   "outputs": [
    {
     "data": {
      "text/plain": [
       "(1972, 6)"
      ]
     },
     "execution_count": 7,
     "metadata": {},
     "output_type": "execute_result"
    }
   ],
   "source": [
    "# conclusion - all the posts with no timestamp are ads. \n",
    "# Even if they aren't all ads, I'm willing to forego this smallish subset\n",
    "# of entries that mostly sound suspiciously like ads..\n",
    "post_df.drop(post_df[adfilter].index, inplace=True)\n",
    "post_df.shape"
   ]
  },
  {
   "cell_type": "code",
   "execution_count": 8,
   "id": "df4bfa0d-152f-4a44-a406-45c3ed2cc2e0",
   "metadata": {},
   "outputs": [
    {
     "data": {
      "text/plain": [
       "uid          object\n",
       "time         object\n",
       "title        object\n",
       "body-text    object\n",
       "media         int64\n",
       "comments      int64\n",
       "dtype: object"
      ]
     },
     "execution_count": 8,
     "metadata": {},
     "output_type": "execute_result"
    }
   ],
   "source": [
    "# convert media column to 0/1 (boolean)\n",
    "post_df['media'] = (post_df['media'] == 'True').astype(int)\n",
    "post_df.dtypes"
   ]
  },
  {
   "cell_type": "markdown",
   "id": "bf0a5d35-5027-40b5-b30f-c6cc260033bf",
   "metadata": {},
   "source": [
    "Columns are about as clean as can be for now."
   ]
  },
  {
   "cell_type": "markdown",
   "id": "d3e70db7-bc16-46be-a22b-846d3e01d48c",
   "metadata": {},
   "source": [
    "### 2. Feature Engineering\n",
    "\n",
    "Some useful features to have at my fingertips would be title-length, title-word-count, post-length, post-word-count"
   ]
  },
  {
   "cell_type": "code",
   "execution_count": 9,
   "id": "18d8c4c9-7a0c-4951-b468-b7b59be40036",
   "metadata": {},
   "outputs": [
    {
     "data": {
      "text/html": [
       "<div>\n",
       "<style scoped>\n",
       "    .dataframe tbody tr th:only-of-type {\n",
       "        vertical-align: middle;\n",
       "    }\n",
       "\n",
       "    .dataframe tbody tr th {\n",
       "        vertical-align: top;\n",
       "    }\n",
       "\n",
       "    .dataframe thead th {\n",
       "        text-align: right;\n",
       "    }\n",
       "</style>\n",
       "<table border=\"1\" class=\"dataframe\">\n",
       "  <thead>\n",
       "    <tr style=\"text-align: right;\">\n",
       "      <th></th>\n",
       "      <th>uid</th>\n",
       "      <th>time</th>\n",
       "      <th>title</th>\n",
       "      <th>body-text</th>\n",
       "      <th>media</th>\n",
       "      <th>comments</th>\n",
       "    </tr>\n",
       "  </thead>\n",
       "  <tbody>\n",
       "    <tr>\n",
       "      <th>0</th>\n",
       "      <td>214SaturnReturnMEGATHREAD-we'vebeengettingalot...</td>\n",
       "      <td>2022-02-01</td>\n",
       "      <td>Saturn Return MEGATHREAD - we've been getting ...</td>\n",
       "      <td></td>\n",
       "      <td>0</td>\n",
       "      <td>330</td>\n",
       "    </tr>\n",
       "    <tr>\n",
       "      <th>1</th>\n",
       "      <td>51MERCURYRXINFOGRAPHIC:Taurus/Gemini,Apr-Jun20220</td>\n",
       "      <td>2022-06-01</td>\n",
       "      <td>MERCURY RX INFOGRAPHIC: Taurus/Gemini, Apr-Jun...</td>\n",
       "      <td></td>\n",
       "      <td>0</td>\n",
       "      <td>22</td>\n",
       "    </tr>\n",
       "    <tr>\n",
       "      <th>2</th>\n",
       "      <td>17CHANIappissues?221</td>\n",
       "      <td>2022-08-30</td>\n",
       "      <td>CHANI app issues?</td>\n",
       "      <td>I just downloaded the CHANI app to try out and...</td>\n",
       "      <td>0</td>\n",
       "      <td>4</td>\n",
       "    </tr>\n",
       "    <tr>\n",
       "      <th>4</th>\n",
       "      <td>86IsMercuryinAquariusinthe6thHouseaspowerfulas...</td>\n",
       "      <td>2022-08-30</td>\n",
       "      <td>Is Mercury in Aquarius in the 6th House as pow...</td>\n",
       "      <td>Not new to the deeper parts of astrology but t...</td>\n",
       "      <td>0</td>\n",
       "      <td>8</td>\n",
       "    </tr>\n",
       "    <tr>\n",
       "      <th>5</th>\n",
       "      <td>37Whatistheproperorbforasextile?224</td>\n",
       "      <td>2022-08-30</td>\n",
       "      <td>What is the proper orb for a sextile?</td>\n",
       "      <td>What is the proper and respective orb for a se...</td>\n",
       "      <td>0</td>\n",
       "      <td>8</td>\n",
       "    </tr>\n",
       "  </tbody>\n",
       "</table>\n",
       "</div>"
      ],
      "text/plain": [
       "                                                 uid        time  \\\n",
       "0  214SaturnReturnMEGATHREAD-we'vebeengettingalot...  2022-02-01   \n",
       "1  51MERCURYRXINFOGRAPHIC:Taurus/Gemini,Apr-Jun20220  2022-06-01   \n",
       "2                               17CHANIappissues?221  2022-08-30   \n",
       "4  86IsMercuryinAquariusinthe6thHouseaspowerfulas...  2022-08-30   \n",
       "5                37Whatistheproperorbforasextile?224  2022-08-30   \n",
       "\n",
       "                                               title  \\\n",
       "0  Saturn Return MEGATHREAD - we've been getting ...   \n",
       "1  MERCURY RX INFOGRAPHIC: Taurus/Gemini, Apr-Jun...   \n",
       "2                                  CHANI app issues?   \n",
       "4  Is Mercury in Aquarius in the 6th House as pow...   \n",
       "5              What is the proper orb for a sextile?   \n",
       "\n",
       "                                           body-text  media  comments  \n",
       "0                                                         0       330  \n",
       "1                                                         0        22  \n",
       "2  I just downloaded the CHANI app to try out and...      0         4  \n",
       "4  Not new to the deeper parts of astrology but t...      0         8  \n",
       "5  What is the proper and respective orb for a se...      0         8  "
      ]
     },
     "execution_count": 9,
     "metadata": {},
     "output_type": "execute_result"
    }
   ],
   "source": [
    "post_df.head()"
   ]
  },
  {
   "cell_type": "code",
   "execution_count": 10,
   "id": "cf74699f-189b-4a53-b814-d5dd36da757c",
   "metadata": {},
   "outputs": [
    {
     "data": {
      "text/plain": [
       "\"[\\\\w\\\\d']+\""
      ]
     },
     "execution_count": 10,
     "metadata": {},
     "output_type": "execute_result"
    }
   ],
   "source": [
    "ipyutils.PAT_TOKEN"
   ]
  },
  {
   "cell_type": "code",
   "execution_count": 11,
   "id": "6a157d00-ce0b-4ec6-a6d5-62192d10335c",
   "metadata": {},
   "outputs": [
    {
     "data": {
      "text/plain": [
       "0    36\n",
       "1     8\n",
       "Name: title-wc, dtype: int64"
      ]
     },
     "execution_count": 11,
     "metadata": {},
     "output_type": "execute_result"
    }
   ],
   "source": [
    "# title word count\n",
    "post_df['title-wc'] = [len(regexp_tokenize(t, ipyutils.PAT_TOKEN)) \n",
    "                       for t in post_df['title']]\n",
    "post_df['title-wc'].head(2)"
   ]
  },
  {
   "cell_type": "code",
   "execution_count": 12,
   "id": "8b41255e-aedc-4a40-ac33-8541d1e0f3e4",
   "metadata": {},
   "outputs": [
    {
     "data": {
      "text/plain": [
       "0    214\n",
       "1     51\n",
       "Name: title-cc, dtype: int64"
      ]
     },
     "execution_count": 12,
     "metadata": {},
     "output_type": "execute_result"
    }
   ],
   "source": [
    "# title character count\n",
    "post_df['title-cc'] = [len(t) for t in post_df['title']]\n",
    "post_df['title-cc'].head(2)"
   ]
  },
  {
   "cell_type": "code",
   "execution_count": 13,
   "id": "a5ab804b-40f2-4868-a6b7-c87114b2f477",
   "metadata": {},
   "outputs": [
    {
     "data": {
      "text/plain": [
       "0     0\n",
       "1     0\n",
       "2    50\n",
       "4    59\n",
       "5    45\n",
       "Name: body-wc, dtype: int64"
      ]
     },
     "execution_count": 13,
     "metadata": {},
     "output_type": "execute_result"
    }
   ],
   "source": [
    "# body word count\n",
    "post_df['body-wc'] = [len(regexp_tokenize(t, ipyutils.PAT_TOKEN)) \n",
    "                      for t in post_df['body-text']]\n",
    "post_df['body-wc'].head()"
   ]
  },
  {
   "cell_type": "code",
   "execution_count": 14,
   "id": "b0004f82-8d03-4bc6-a42d-af09307af5b9",
   "metadata": {},
   "outputs": [
    {
     "data": {
      "text/plain": [
       "0      0\n",
       "1      0\n",
       "2    221\n",
       "4    314\n",
       "5    224\n",
       "Name: body-cc, dtype: int64"
      ]
     },
     "execution_count": 14,
     "metadata": {},
     "output_type": "execute_result"
    }
   ],
   "source": [
    "# body character count\n",
    "post_df['body-cc'] = [len(t) for t in post_df['body-text']]\n",
    "post_df['body-cc'].head()"
   ]
  },
  {
   "cell_type": "markdown",
   "id": "3d8451b3-93db-4001-91f4-a8e73521dbab",
   "metadata": {},
   "source": [
    "### Write Clean Data To Disk"
   ]
  },
  {
   "cell_type": "code",
   "execution_count": 15,
   "id": "cd46c88b-74e6-4aac-83aa-79a5592623f1",
   "metadata": {},
   "outputs": [
    {
     "data": {
      "text/plain": [
       "Index(['time', 'title', 'body-text', 'title-cc', 'title-wc', 'body-cc',\n",
       "       'body-wc', 'media', 'comments'],\n",
       "      dtype='object')"
      ]
     },
     "execution_count": 15,
     "metadata": {},
     "output_type": "execute_result"
    }
   ],
   "source": [
    "# reorganize columns and remove uid column - only needed it to find duplicates\n",
    "post_df = post_df[['time','title','body-text',\n",
    "                  'title-cc','title-wc','body-cc','body-wc',\n",
    "                  'media','comments']]\n",
    "post_df.columns"
   ]
  },
  {
   "cell_type": "code",
   "execution_count": 16,
   "id": "5caa4187-3fa3-4779-93fd-e9c86a74b428",
   "metadata": {},
   "outputs": [],
   "source": [
    "post_df.to_json('../data/scrapes-clean.json', orient='index')"
   ]
  },
  {
   "cell_type": "code",
   "execution_count": 17,
   "id": "cd3e5565-e7cf-430c-a813-1d5a1fc1622a",
   "metadata": {},
   "outputs": [],
   "source": [
    "# END"
   ]
  }
 ],
 "metadata": {
  "kernelspec": {
   "display_name": "Python 3 (ipykernel)",
   "language": "python",
   "name": "python3"
  },
  "language_info": {
   "codemirror_mode": {
    "name": "ipython",
    "version": 3
   },
   "file_extension": ".py",
   "mimetype": "text/x-python",
   "name": "python",
   "nbconvert_exporter": "python",
   "pygments_lexer": "ipython3",
   "version": "3.10.5"
  }
 },
 "nbformat": 4,
 "nbformat_minor": 5
}
